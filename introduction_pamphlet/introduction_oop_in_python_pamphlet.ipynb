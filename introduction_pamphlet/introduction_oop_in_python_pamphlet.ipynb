{
 "cells": [
  {
   "cell_type": "markdown",
   "id": "22bc62ea",
   "metadata": {},
   "source": [
    "# OOP "
   ]
  },
  {
   "cell_type": "markdown",
   "id": "33177574",
   "metadata": {},
   "source": [
    "### __ init __  & __ str __ & self & __ name __"
   ]
  },
  {
   "cell_type": "code",
   "execution_count": 20,
   "id": "0c8c3a48",
   "metadata": {},
   "outputs": [],
   "source": [
    "class acount : \n",
    "    def __init__(self , name  , age ,  count):\n",
    "        self.name  = name\n",
    "        self.age    = age\n",
    "        self.count = count\n",
    "    \n",
    "    def counter(self) :\n",
    "        for i in range(10): \n",
    "            self.count += 1\n",
    "        return self.count\n",
    "\n",
    "    def __str__(self):\n",
    "        return f\"name : {self.name}  , age : {self.age} , year : {self.count}\""
   ]
  },
  {
   "cell_type": "code",
   "execution_count": 23,
   "id": "72a8e1a8",
   "metadata": {},
   "outputs": [
    {
     "name": "stdout",
     "output_type": "stream",
     "text": [
      "name : amirhossein  , age : 20 , year : 0\n",
      "10\n",
      "name : amirhossein  , age : 20 , year : 10\n"
     ]
    }
   ],
   "source": [
    "if __name__ == \"__main__\":\n",
    "    ob1 = acount(\"amirhossein\" , 20 , 0)\n",
    "    print(ob1)   ###  for __str__  printer \n",
    "    print(ob1.counter())   ### call  method \n",
    "    print(ob1)   ###  for __str__  printer \n"
   ]
  },
  {
   "cell_type": "markdown",
   "id": "5f252c90",
   "metadata": {},
   "source": [
    "### add init attribute in class "
   ]
  },
  {
   "cell_type": "code",
   "execution_count": 1,
   "id": "e2061a6d",
   "metadata": {},
   "outputs": [],
   "source": [
    "class Student :\n",
    "    def __init__ (self, name, stu_num, scores) :\n",
    "        self.name = name\n",
    "        self.stu_num = stu_num\n",
    "        self.scores = scores\n",
    "    def calc_avg(self):\n",
    "        result = sum(self.scores) / len(self.scores)\n",
    "        self.avg = result\n",
    "    def __str__ (self):\n",
    "        return f\"name: {self. name}, student number: {self.stu_num}, score : {self.scores}\""
   ]
  },
  {
   "cell_type": "code",
   "execution_count": 3,
   "id": "bea5aec2",
   "metadata": {},
   "outputs": [
    {
     "name": "stdout",
     "output_type": "stream",
     "text": [
      "{'name': 'sara', 'stu_num': 's123', 'scores': [12, 13, 16], 'avg': 13.666666666666666}\n"
     ]
    }
   ],
   "source": [
    "student1 = Student(\"sara\" , \"s123\" , [12,13,16])\n",
    "student1.calc_avg()\n",
    "print(vars(student1))"
   ]
  },
  {
   "cell_type": "markdown",
   "id": "28538ed4",
   "metadata": {},
   "source": [
    "### instance -  class and static method "
   ]
  },
  {
   "cell_type": "markdown",
   "id": "22ab4fb8",
   "metadata": {},
   "source": [
    "###### instanse method ==> object  , self ==> (self)\n",
    "###### class method ==>  object , class name  , cls ==>  (cls)\n",
    "###### static method ==> object ,  class name  , self ==> ()"
   ]
  },
  {
   "cell_type": "code",
   "execution_count": 5,
   "id": "ac30b0a3",
   "metadata": {},
   "outputs": [],
   "source": [
    "class Student :\n",
    "    def __init__ (self, name, stu_num, scores) :\n",
    "        self.name = name\n",
    "        self.is_valid_number(stu_num)   ### if not validate ==> raise an error !!\n",
    "        self.stu_num = stu_num\n",
    "        self.scores = scores\n",
    "    #instance method :\n",
    "    def calc_avg(self):\n",
    "        result = sum(self.scores) / len(self.scores)\n",
    "        self.avg = result\n",
    "    @classmethod\n",
    "    def show_numbers (cls) :\n",
    "        print(\"class method: \",cls.number_of_student)\n",
    "    @classmethod\n",
    "    def add_numbers (cls) :\n",
    "        cls. show_numbers ()\n",
    "        cls.number_of_student += 5\n",
    "    @staticmethod\n",
    "    def is_valid_number(stu_num) :\n",
    "        if len(stu_num) != 4 or not stu_num.startswith(\"S\"):\n",
    "            raise ValueError(\"invalid student number !!\")\n",
    "    def __str__ (self):\n",
    "        return f\"name: {self. name}, student number: {self.stu_num}, score : {self.scores}\""
   ]
  },
  {
   "cell_type": "code",
   "execution_count": null,
   "id": "160af3df",
   "metadata": {},
   "outputs": [
    {
     "name": "stdout",
     "output_type": "stream",
     "text": [
      "make student1 !!\n"
     ]
    },
    {
     "data": {
      "text/plain": [
       "'student2 = Student(\"hande\" , \"A123\" , [12, 13, 14]) ### raise an error !!\\nprint(\"make student2 !!\")'"
      ]
     },
     "execution_count": 10,
     "metadata": {},
     "output_type": "execute_result"
    }
   ],
   "source": [
    "student1 = Student(\"hande\" , \"S123\" , [12, 13, 14]) ### that's right !!\n",
    "student2 = Student(\"hande\" , \"A123\" , [12, 13, 14]) ### raise an error !!"
   ]
  },
  {
   "cell_type": "markdown",
   "id": "4c0c99f5",
   "metadata": {},
   "source": [
    "### Example : "
   ]
  },
  {
   "cell_type": "code",
   "execution_count": 6,
   "id": "a387108f",
   "metadata": {},
   "outputs": [],
   "source": [
    "# type ==== > B1, B2\n",
    "# title\n",
    "class Book:\n",
    "    types = (\"B1\", \"B2\")\n",
    "    def __init__ (self, title, type) :\n",
    "        self.title = title\n",
    "        self.is_valid_type(type)\n",
    "        self.type = type\n",
    "    @staticmethod\n",
    "    def is_valid_type(book_type):\n",
    "        if book_type not in Book.types:\n",
    "            raise ValueError(f\"{book_type} in not valid!\")\n",
    "    def __str__(self) :\n",
    "        return f\"title : {self.title}, type: {self.type}\""
   ]
  },
  {
   "cell_type": "code",
   "execution_count": 7,
   "id": "99b5205f",
   "metadata": {},
   "outputs": [
    {
     "name": "stdout",
     "output_type": "stream",
     "text": [
      "title : t1, type: B2\n"
     ]
    }
   ],
   "source": [
    "b1 = Book(\"t1\" , \"B2\") ## correct \n",
    "# b2 = Book(\"t2\" , \"B3\") ## raise an error !!\n",
    "print(b1)"
   ]
  },
  {
   "cell_type": "markdown",
   "id": "04db3bb0",
   "metadata": {},
   "source": [
    "### inheritanse "
   ]
  },
  {
   "cell_type": "code",
   "execution_count": 1,
   "id": "2cc65d37",
   "metadata": {},
   "outputs": [
    {
     "name": "stdout",
     "output_type": "stream",
     "text": [
      "eleman1 : 1 , eleman2 : 2 , eleman3 : 3 , eleman4 : 4 , eleman5 : 5 \n"
     ]
    }
   ],
   "source": [
    "class A : \n",
    "    def __init__(self ,eleman1, eleman2 , eleman3):\n",
    "        self.eleman1 = eleman1\n",
    "        self.eleman2 = eleman2\n",
    "        self.eleman3 = eleman3\n",
    "    \n",
    "    def __str__(self):\n",
    "        return f\"eleman1 : {self.eleman1} , eleman2 : {self.eleman2} , eleman3 : {self.eleman3}\" \n",
    "    \n",
    "    def show_eleman(self) :\n",
    "        print( self.eleman1)\n",
    "\n",
    "class B(A) : \n",
    "    def __init__(self, eleman1, eleman2, eleman3, eleman4 , eleman5):\n",
    "        super().__init__(eleman1, eleman2, eleman3)\n",
    "        self.eleman4 = eleman4\n",
    "        self.eleman5 = eleman5\n",
    "    \n",
    "    def  __str__(self):\n",
    "        return f\"{super().__str__()} , eleman4 : {self.eleman4} , eleman5 : {self.eleman5} \"\n",
    "    \n",
    "    def show_eleman(self):\n",
    "        print(f\"eleman1 : {self.eleman1}\")\n",
    "\n",
    "\n",
    "if __name__ ==\"__main__\" :\n",
    "    b = B( 1,2,3,4,5)\n",
    "    print(b)\n"
   ]
  },
  {
   "cell_type": "markdown",
   "id": "0bffc024",
   "metadata": {},
   "source": [
    "### point  "
   ]
  },
  {
   "cell_type": "code",
   "execution_count": null,
   "id": "49c012a6",
   "metadata": {},
   "outputs": [
    {
     "name": "stdout",
     "output_type": "stream",
     "text": [
      "that's right !!\n"
     ]
    }
   ],
   "source": [
    "first_list  = [\"python\" ,  \"amir\" , \"0200420941\"]\n",
    "\n",
    "def extend(new_data_list) :\n",
    "\n",
    "    ## the way 1 ===> \n",
    "    if all(isinstance(item , str) for item in new_data_list ): \n",
    "        print(\"yes\")\n",
    "    else :\n",
    "        print(\"no\")\n",
    "        \n",
    "    #the way 2 === >\n",
    "    flag = True\n",
    "    for item in new_data_list :\n",
    "        if isinstance(item , str) :\n",
    "            continue\n",
    "        else :\n",
    "            flag = False\n",
    "    if not flag :\n",
    "        print(\"error\")\n",
    "    else :\n",
    "        print(\"correct\")\n",
    "    \n",
    "#################################\n",
    "    extend([\"1\" ,  \"hande\" , \"taylor\"])\n",
    "\n",
    "    # the way 3 ==> \n",
    "    for item in new_data_list :\n",
    "        if  not isinstance(item , str) :\n",
    "            return False\n",
    "    return True\n",
    "\n",
    "if extend([\"1\" ,  \"hande\" , \"taylor\"]) :\n",
    "    print(\"that's right !!\")\n",
    "else : \n",
    "    print(\"error !!\")\n"
   ]
  },
  {
   "cell_type": "markdown",
   "id": "c2d3e3ab",
   "metadata": {},
   "source": [
    "### __ setitem __  \n",
    "###### برای اضافه کردن مقداری به لیست مورد نظر باید حتما از نوع  استرینگ باشد "
   ]
  },
  {
   "cell_type": "markdown",
   "id": "a3348ff7",
   "metadata": {},
   "source": [
    "### setter and getter "
   ]
  },
  {
   "cell_type": "code",
   "execution_count": 2,
   "id": "3b474813",
   "metadata": {},
   "outputs": [],
   "source": [
    "class person : \n",
    "    def __init__(self , name ,  age ):\n",
    "        self.name = name \n",
    "        self._age  = age   ## protected \n",
    "    \n",
    "    @property       ##  getter decoder !!\n",
    "    def age(self) :\n",
    "        return self._age\n",
    "    \n",
    "    @age.setter      ## setter decoder !!\n",
    "    def age(self , new_age) :\n",
    "        self._age = new_age\n",
    "    "
   ]
  },
  {
   "cell_type": "code",
   "execution_count": 4,
   "id": "e253aad6",
   "metadata": {},
   "outputs": [
    {
     "name": "stdout",
     "output_type": "stream",
     "text": [
      "20\n",
      "{'name': 'amir', '_age': 20}\n"
     ]
    }
   ],
   "source": [
    "p1 = person(\"amir\" , 33)\n",
    "p1.age = 20\n",
    "print(p1.age)\n",
    "print(vars(p1))"
   ]
  },
  {
   "cell_type": "markdown",
   "id": "add14ed4",
   "metadata": {},
   "source": [
    "###  **var "
   ]
  },
  {
   "cell_type": "code",
   "execution_count": 2,
   "id": "1595d02d",
   "metadata": {},
   "outputs": [
    {
     "name": "stdout",
     "output_type": "stream",
     "text": [
      "x 13\n",
      "y 22\n"
     ]
    }
   ],
   "source": [
    "def new_function(**var ) :\n",
    "    for i , v  in var.items() :\n",
    "        print(i ,v ) \n",
    "\n",
    "new_function( x = 13 , y = 22)"
   ]
  },
  {
   "cell_type": "markdown",
   "id": "c6bd1669",
   "metadata": {},
   "source": [
    "### doctest "
   ]
  },
  {
   "cell_type": "code",
   "execution_count": 42,
   "id": "8a4b8c22",
   "metadata": {},
   "outputs": [],
   "source": [
    "import doctest\n",
    "def factorial(num) :\n",
    "    \"\"\"\n",
    "    calculate the factorial of positive number \n",
    "\n",
    "    parameters :\n",
    "        num(int ) :  the positive number .\n",
    "    returns :\n",
    "        int : the factorial of input num .\n",
    "    raises :\n",
    "        ValueError : num must be positive !!\n",
    "    Examples :\n",
    "        >>> factorial(2) \n",
    "        2\n",
    "        >>> factorial(0)\n",
    "        1\n",
    "        >>> factorial(-1) \n",
    "        Traceback (most recent call last):\n",
    "                ...\n",
    "        ValueError: num must be positive !!\n",
    "    \"\"\"\n",
    "    if num < 0 : \n",
    "        raise ValueError(\"num must be positive !!\")\n",
    "    if num == 0 :\n",
    "        return 1\n",
    "    res = 1\n",
    "    for i in range(1, num +1 ) :\n",
    "        res *= i \n",
    "    return res\n"
   ]
  },
  {
   "cell_type": "code",
   "execution_count": 49,
   "id": "8d955f8b",
   "metadata": {},
   "outputs": [
    {
     "name": "stdout",
     "output_type": "stream",
     "text": [
      "Finding tests in NoName\n",
      "Trying:\n",
      "    factorial(2) \n",
      "Expecting:\n",
      "    2\n",
      "ok\n",
      "Trying:\n",
      "    factorial(0)\n",
      "Expecting:\n",
      "    1\n",
      "ok\n",
      "Trying:\n",
      "    factorial(-1) \n",
      "Expecting:\n",
      "    Traceback (most recent call last):\n",
      "            ...\n",
      "    ValueError: num must be positive !!\n",
      "ok\n"
     ]
    }
   ],
   "source": [
    "# help(factorial)\n",
    "# doctest.testmod(verbose= True)\n",
    "doctest.run_docstring_examples(factorial , globals() , verbose= True)\n",
    "# factorial(-1)\n",
    "\n",
    "\n",
    "###### python -m doctest  -v name of project.py "
   ]
  }
 ],
 "metadata": {
  "kernelspec": {
   "display_name": "Python 3",
   "language": "python",
   "name": "python3"
  },
  "language_info": {
   "codemirror_mode": {
    "name": "ipython",
    "version": 3
   },
   "file_extension": ".py",
   "mimetype": "text/x-python",
   "name": "python",
   "nbconvert_exporter": "python",
   "pygments_lexer": "ipython3",
   "version": "3.13.0"
  }
 },
 "nbformat": 4,
 "nbformat_minor": 5
}
