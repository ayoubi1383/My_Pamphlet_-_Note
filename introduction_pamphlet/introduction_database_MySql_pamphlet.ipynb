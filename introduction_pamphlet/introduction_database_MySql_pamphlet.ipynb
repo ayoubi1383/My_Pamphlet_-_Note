{
 "cells": [
  {
   "cell_type": "markdown",
   "id": "b981e2b5",
   "metadata": {},
   "source": [
    "### database (My SQL)"
   ]
  },
  {
   "cell_type": "code",
   "execution_count": null,
   "id": "0d00d6d8",
   "metadata": {},
   "outputs": [],
   "source": [
    "sql = \"\"\"\n",
    "show databases;\n",
    "\"\"\""
   ]
  },
  {
   "cell_type": "code",
   "execution_count": null,
   "id": "d8d19c46",
   "metadata": {},
   "outputs": [],
   "source": [
    "sql = \"\"\"\n",
    "create database onlineshop1;\n",
    "\"\"\""
   ]
  },
  {
   "cell_type": "code",
   "execution_count": null,
   "id": "55f6fe7d",
   "metadata": {},
   "outputs": [],
   "source": [
    "sql = \"\"\"\n",
    "use onlineshop1;\n",
    "\"\"\""
   ]
  },
  {
   "cell_type": "code",
   "execution_count": null,
   "id": "56028ac0",
   "metadata": {},
   "outputs": [],
   "source": [
    "sql = \"\"\"\n",
    "drop database onlineshop1;\n",
    "\"\"\""
   ]
  },
  {
   "cell_type": "code",
   "execution_count": null,
   "id": "21b5ddcc",
   "metadata": {},
   "outputs": [],
   "source": [
    "sql = \"\"\"\n",
    "create table users (\n",
    "user_id  int not null  ,\n",
    "first_name varchar(50) , \n",
    "last_name varchar(50)  not null  , \n",
    "age int not null , \n",
    "primary key (user_id)\n",
    ");\"\"\""
   ]
  },
  {
   "cell_type": "code",
   "execution_count": null,
   "id": "4b67dd66",
   "metadata": {},
   "outputs": [],
   "source": [
    "sql = \"\"\"\n",
    "create table orders (\n",
    "order_id  int not null auto_increment ,\n",
    "name  varchar(225) , \n",
    "ref_user_id  int not null  , \n",
    "price  int not null , \n",
    "primary key (order_id) , \n",
    "foreign key (ref_user_id) references users (user_id)\n",
    ");\"\"\""
   ]
  },
  {
   "cell_type": "code",
   "execution_count": null,
   "id": "77819eac",
   "metadata": {},
   "outputs": [],
   "source": [
    "sql = \"\"\"\n",
    "show tables;\n",
    "show fields from users ;\"\"\""
   ]
  },
  {
   "cell_type": "code",
   "execution_count": null,
   "id": "93d7d83b",
   "metadata": {},
   "outputs": [],
   "source": [
    "sql = \"\"\"\n",
    "insert into users (user_id  , first_name , last_name ,  age )\n",
    "values (1, \"amirhossein\" , \"ayoubi\" , 20),\n",
    "(2, \"taylor\" , \"swift\" , 35) ,\n",
    "(3, \"hande\" , \"ercel\" , 31) ;\"\"\""
   ]
  },
  {
   "cell_type": "code",
   "execution_count": null,
   "id": "93c53c2a",
   "metadata": {},
   "outputs": [],
   "source": [
    "sql = \"\"\"\n",
    "select * from users ;\"\"\""
   ]
  },
  {
   "cell_type": "code",
   "execution_count": null,
   "id": "cde9fe76",
   "metadata": {},
   "outputs": [],
   "source": [
    "sql = \"\"\"\n",
    "update users \n",
    "set \n",
    "age  = age*10 ;\"\"\""
   ]
  },
  {
   "cell_type": "code",
   "execution_count": null,
   "id": "5798e24f",
   "metadata": {},
   "outputs": [],
   "source": [
    "sql =\"\"\"\n",
    "delete  from  users \n",
    "where user_id = 1 ;\"\"\""
   ]
  },
  {
   "cell_type": "code",
   "execution_count": null,
   "id": "54007a26",
   "metadata": {},
   "outputs": [],
   "source": [
    "sql = \"\"\"\n",
    "alter table users \n",
    "add birthday date ;\"\"\""
   ]
  },
  {
   "cell_type": "code",
   "execution_count": null,
   "id": "d3f70f42",
   "metadata": {},
   "outputs": [],
   "source": [
    "sql = \"\"\"\n",
    "alter table users \n",
    "drop column birthday ; \"\"\""
   ]
  },
  {
   "cell_type": "code",
   "execution_count": null,
   "id": "a6c36815",
   "metadata": {},
   "outputs": [],
   "source": [
    "sql = \"\"\"\n",
    "alter table users \n",
    "modify column  first_name  varchar(250) ;\"\"\""
   ]
  },
  {
   "cell_type": "code",
   "execution_count": null,
   "id": "f81011bb",
   "metadata": {},
   "outputs": [],
   "source": [
    "sql = \"\"\"\n",
    "alter table users\n",
    "change last_name  family_name  varchar(50);\"\"\""
   ]
  },
  {
   "cell_type": "code",
   "execution_count": null,
   "id": "74c35f76",
   "metadata": {},
   "outputs": [],
   "source": [
    "sql = \"\"\"\n",
    "alter table users \n",
    "rename to users1 ; \"\"\""
   ]
  },
  {
   "cell_type": "code",
   "execution_count": null,
   "id": "7453a17c",
   "metadata": {},
   "outputs": [],
   "source": [
    "sql = \"\"\"\n",
    "select sum(price) as sum_price from orders \n",
    "where name = \"laptop\" ;\"\"\""
   ]
  },
  {
   "cell_type": "code",
   "execution_count": null,
   "id": "c90367e7",
   "metadata": {},
   "outputs": [],
   "source": [
    "sql = \"\"\"\n",
    "select name ,  sum(price) as sum from orders \n",
    "group by name ;\"\"\""
   ]
  },
  {
   "cell_type": "markdown",
   "id": "98467226",
   "metadata": {},
   "source": [
    "### example for many to many : "
   ]
  },
  {
   "cell_type": "code",
   "execution_count": null,
   "id": "d1c5e71b",
   "metadata": {},
   "outputs": [],
   "source": [
    "sql = \"\"\"\n",
    "create table users (\n",
    "user_id  int not null auto_increment  ,\n",
    "first_name varchar(50) , \n",
    "last_name varchar(50)  not null  , \n",
    "age int not null , \n",
    "primary key (user_id)\n",
    ");\"\"\""
   ]
  },
  {
   "cell_type": "code",
   "execution_count": null,
   "id": "3cf6e20e",
   "metadata": {},
   "outputs": [],
   "source": [
    "sql = \"\"\"\n",
    "create table orders (\n",
    "order_id  int not null auto_increment ,\n",
    "name varchar(50) not null , \n",
    "price int not null  ,\n",
    "primary key (order_id) \n",
    ");\"\"\""
   ]
  },
  {
   "cell_type": "code",
   "execution_count": null,
   "id": "c599543b",
   "metadata": {},
   "outputs": [],
   "source": [
    "sql = \"\"\"\n",
    "insert into users (first_name , last_name  , age )\n",
    "values (\"amirhossein\" , \"ayoubi\" , 20),\n",
    "(\"taylor\" , \"swift\" , 35),\n",
    "(\"hande\" , \"ercel\" , 31),\n",
    "(\"selena\" , \"gomez\" , 35),\n",
    "(\"ariana\" , \"grande\" , 27);\"\"\""
   ]
  },
  {
   "cell_type": "code",
   "execution_count": null,
   "id": "6f60a082",
   "metadata": {},
   "outputs": [],
   "source": [
    "sql = \"\"\"\n",
    "insert into orders (name ,  price )\n",
    "values (\"laptop\" , 100000000),\n",
    "(\"mose\" , 120000),\n",
    "(\"keyboard\" , 5000000),\n",
    "(\"coolpad\" , 1100000),\n",
    "(\"airpod\" , 5500000);\"\"\""
   ]
  },
  {
   "cell_type": "code",
   "execution_count": null,
   "id": "18106ede",
   "metadata": {},
   "outputs": [],
   "source": [
    "sql = \"\"\"\n",
    "create table merger(\n",
    "merg_id int not null  auto_increment , \n",
    "user_id int not null , \n",
    "order_id int not null , \n",
    "primary key (merg_id) , \n",
    "foreign key (user_id) references users (user_id) , \n",
    "foreign key (order_id) references orders (order_id)\n",
    ");\n",
    "\"\"\""
   ]
  },
  {
   "cell_type": "code",
   "execution_count": null,
   "id": "fda60fd7",
   "metadata": {},
   "outputs": [],
   "source": [
    "sql = \"\"\"\n",
    "insert into merger (user_id  , order_id )\n",
    "values (1,4), \n",
    "(1,5) , \n",
    "(2,1), \n",
    "(2,3),\n",
    "(2,2),\n",
    "(3,3),\n",
    "(3,1),\n",
    "(3,5),\n",
    "(5,2),\n",
    "(4,1),\n",
    "(4,5) ;\n",
    "\"\"\" "
   ]
  },
  {
   "cell_type": "code",
   "execution_count": null,
   "id": "b553335a",
   "metadata": {},
   "outputs": [],
   "source": [
    "sql = \"\"\"\n",
    "select  u.first_name , u.last_name  , o.name , o.price  from merger as m\n",
    "inner join users as u on  u.user_id = m.user_id\n",
    "inner join orders as o  on o.order_id = m.order_id \n",
    "where o.price > 2000000\n",
    ";\n",
    "\"\"\""
   ]
  },
  {
   "cell_type": "markdown",
   "id": "de4a2931",
   "metadata": {},
   "source": [
    "# ____________________________________________________________________________"
   ]
  },
  {
   "cell_type": "markdown",
   "id": "d2358f9a",
   "metadata": {},
   "source": [
    "### connection to mysql  in python "
   ]
  },
  {
   "cell_type": "code",
   "execution_count": 1,
   "id": "bd13d26e",
   "metadata": {},
   "outputs": [],
   "source": [
    "import mysql.connector"
   ]
  },
  {
   "cell_type": "code",
   "execution_count": 2,
   "id": "71a7a204",
   "metadata": {},
   "outputs": [],
   "source": [
    "mydb = mysql.connector.connect(\n",
    "    host  = \"localhost\", \n",
    "    user = \"root\" ,\n",
    "    password =\"atslover1989\"\n",
    ")"
   ]
  },
  {
   "cell_type": "code",
   "execution_count": 3,
   "id": "97ff1718",
   "metadata": {},
   "outputs": [],
   "source": [
    "mycursor = mydb.cursor()"
   ]
  },
  {
   "cell_type": "code",
   "execution_count": 8,
   "id": "e237f4bc",
   "metadata": {},
   "outputs": [],
   "source": [
    "sql = \"create database db_connection ;\"\n",
    "mycursor.execute (sql)"
   ]
  },
  {
   "cell_type": "code",
   "execution_count": 9,
   "id": "0d5370ee",
   "metadata": {},
   "outputs": [
    {
     "data": {
      "text/plain": [
       "[('db_connection',),\n",
       " ('information_schema',),\n",
       " ('mysql',),\n",
       " ('performance_schema',),\n",
       " ('shop1',),\n",
       " ('sys',)]"
      ]
     },
     "execution_count": 9,
     "metadata": {},
     "output_type": "execute_result"
    }
   ],
   "source": [
    "sql1 = \"show databases ;\"\n",
    "mycursor.execute(sql1)\n",
    "mycursor.fetchall()"
   ]
  },
  {
   "cell_type": "code",
   "execution_count": 10,
   "id": "d80ce27c",
   "metadata": {},
   "outputs": [],
   "source": [
    "mydb1 = mysql.connector.connect(\n",
    "    host  = \"localhost\", \n",
    "    user = \"root\" ,\n",
    "    password  = \"atslover1989\",\n",
    "    database = \"db_connection\"\n",
    ")"
   ]
  },
  {
   "cell_type": "code",
   "execution_count": 11,
   "id": "575101f5",
   "metadata": {},
   "outputs": [],
   "source": [
    "mycursor1 = mydb1.cursor()"
   ]
  },
  {
   "cell_type": "code",
   "execution_count": 12,
   "id": "e4717f8f",
   "metadata": {},
   "outputs": [],
   "source": [
    "sql2 =\"\"\"\n",
    "create table users (\n",
    "user_id  int not null auto_increment  ,\n",
    "first_name varchar(50) , \n",
    "last_name varchar(50)  not null  , \n",
    "age int not null , \n",
    "primary key (user_id)\n",
    ");\"\"\""
   ]
  },
  {
   "cell_type": "code",
   "execution_count": 14,
   "id": "8cd49f6e",
   "metadata": {},
   "outputs": [
    {
     "name": "stdout",
     "output_type": "stream",
     "text": [
      "1050 (42S01): Table 'users' already exists\n"
     ]
    }
   ],
   "source": [
    "try:\n",
    "    mycursor1.execute(sql2)\n",
    "except Exception as e  :\n",
    "    print(e)"
   ]
  },
  {
   "cell_type": "code",
   "execution_count": 15,
   "id": "f1bcaec1",
   "metadata": {},
   "outputs": [
    {
     "data": {
      "text/plain": [
       "[('users',)]"
      ]
     },
     "execution_count": 15,
     "metadata": {},
     "output_type": "execute_result"
    }
   ],
   "source": [
    "sql3 = \"show tables;\"\n",
    "mycursor1.execute(sql3)\n",
    "mycursor1.fetchall()"
   ]
  },
  {
   "cell_type": "code",
   "execution_count": 16,
   "id": "adeb946a",
   "metadata": {},
   "outputs": [],
   "source": [
    "sql4  = \"\"\"\n",
    "insert into users ( first_name , last_name ,  age )\n",
    "values ( \"amirhossein\" , \"ayoubi\" , 20),\n",
    "( \"taylor\" , \"swift\" , 35) ,\n",
    "( \"hande\" , \"ercel\" , 31) ;\"\"\""
   ]
  },
  {
   "cell_type": "code",
   "execution_count": 17,
   "id": "5929b744",
   "metadata": {},
   "outputs": [],
   "source": [
    "mycursor1.execute(sql4)"
   ]
  },
  {
   "cell_type": "code",
   "execution_count": null,
   "id": "3480a7ba",
   "metadata": {},
   "outputs": [],
   "source": [
    "mydb1.commit()  ### for saving in database we have to do this !!!"
   ]
  },
  {
   "cell_type": "code",
   "execution_count": 18,
   "id": "a6a504f8",
   "metadata": {},
   "outputs": [
    {
     "data": {
      "text/plain": [
       "[(1, 'amirhossein', 'ayoubi', 20),\n",
       " (2, 'taylor', 'swift', 35),\n",
       " (3, 'hande', 'ercel', 31)]"
      ]
     },
     "execution_count": 18,
     "metadata": {},
     "output_type": "execute_result"
    }
   ],
   "source": [
    "sql3 = \"select * from users ;\"\n",
    "mycursor1.execute(sql3)\n",
    "mycursor1.fetchall()"
   ]
  }
 ],
 "metadata": {
  "kernelspec": {
   "display_name": "Python 3",
   "language": "python",
   "name": "python3"
  },
  "language_info": {
   "codemirror_mode": {
    "name": "ipython",
    "version": 3
   },
   "file_extension": ".py",
   "mimetype": "text/x-python",
   "name": "python",
   "nbconvert_exporter": "python",
   "pygments_lexer": "ipython3",
   "version": "3.13.0"
  }
 },
 "nbformat": 4,
 "nbformat_minor": 5
}
