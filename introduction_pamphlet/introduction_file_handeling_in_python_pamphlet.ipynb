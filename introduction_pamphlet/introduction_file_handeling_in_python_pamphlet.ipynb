{
 "cells": [
  {
   "cell_type": "markdown",
   "id": "27a5d30c",
   "metadata": {},
   "source": [
    "### file handeling "
   ]
  },
  {
   "cell_type": "markdown",
   "id": "df74aa36",
   "metadata": {},
   "source": [
    "# r"
   ]
  },
  {
   "cell_type": "code",
   "execution_count": null,
   "id": "750006cc",
   "metadata": {},
   "outputs": [],
   "source": [
    "### if file doesn't exist : Error\n",
    "file = open(\"mytext.txt\" , \"r\" )\n",
    "data  = file.read()      # 1\n",
    "# line  = file.readline()      #2\n",
    "# lines  = file .readlines()       #3\n",
    "print( \"readable file  : \" , file.readable())\n",
    "print(\"writable file : \" , file.writable())\n",
    "print(\"is it closed or not : \" , file.closed)\n",
    "file.close()\n",
    "print(\"is it closed or not : \" , file.closed)\n",
    "print(data)            # 1\n",
    "# print(line)              # 2\n",
    "# print(lines)               # 3"
   ]
  },
  {
   "cell_type": "markdown",
   "id": "4fa8728a",
   "metadata": {},
   "source": [
    "### the new way for \"r\""
   ]
  },
  {
   "cell_type": "code",
   "execution_count": 5,
   "id": "871d0725",
   "metadata": {},
   "outputs": [
    {
     "name": "stdout",
     "output_type": "stream",
     "text": [
      "into the with : False\n",
      "out of the with : True\n"
     ]
    }
   ],
   "source": [
    "with open(\"mytext.txt\" , \"r\") as file : \n",
    "    data  = file.read()\n",
    "    print(\"into the with :\",file.closed)\n",
    "print(\"out of the with :\",file.closed)"
   ]
  },
  {
   "cell_type": "markdown",
   "id": "9802da70",
   "metadata": {},
   "source": [
    "# rb"
   ]
  },
  {
   "cell_type": "code",
   "execution_count": null,
   "id": "0c93dd54",
   "metadata": {},
   "outputs": [
    {
     "name": "stdout",
     "output_type": "stream",
     "text": [
      "b\"hello dear \\r\\nmy name is amirhossein \\r\\nand my last name is ayoubi \\r\\ni 'll  try to learn python !!\\r\\ngood luck !!\"\n"
     ]
    }
   ],
   "source": [
    "### if file doesn't exist : Error\n",
    "file = open(\"mytext.txt\" , \"rb\" )\n",
    "data  = file.read()      # 1\n",
    "# line  = file.readline()      #2\n",
    "# lines  = file .readlines()       #3\n",
    "file.close()\n",
    "print(data)            # 1\n",
    "# print(line)              # 2\n",
    "# print(lines)               # 3"
   ]
  },
  {
   "cell_type": "code",
   "execution_count": 2,
   "id": "285756df",
   "metadata": {},
   "outputs": [],
   "source": [
    "# file = open(\"/Users/ASUS/Downloads/Screenshot_۲۰۲۵۰۱۲۰_۲۰۳۱۳۸_Instagram.jpg\" , \"rb\" )\n",
    "# data  = file.read()      # 1\n",
    "# # line  = file.readline()      #2\n",
    "# # lines  = file .readlines()       #3\n",
    "# file.close()\n",
    "# print(data)            # 1\n",
    "# # print(line)              # 2\n",
    "# # print(lines)               # 3"
   ]
  },
  {
   "cell_type": "markdown",
   "id": "9dea1ce5",
   "metadata": {},
   "source": [
    "# w"
   ]
  },
  {
   "cell_type": "code",
   "execution_count": 42,
   "id": "c79762e8",
   "metadata": {},
   "outputs": [
    {
     "name": "stdout",
     "output_type": "stream",
     "text": [
      "writable file :  True\n"
     ]
    }
   ],
   "source": [
    "### replace everything \n",
    "file = open(\"mytext.txt\" , \"w\")\n",
    "print(\"writable file : \" , file.writable())\n",
    "file.write(\"data science\")\n",
    "file.close()\n"
   ]
  },
  {
   "cell_type": "code",
   "execution_count": 41,
   "id": "ae862b97",
   "metadata": {},
   "outputs": [
    {
     "name": "stdout",
     "output_type": "stream",
     "text": [
      "writable file :  True\n"
     ]
    }
   ],
   "source": [
    "### if file doesn't exist : create \n",
    "file = open(\"mytext2.txt\" , \"w\")\n",
    "print(\"writable file : \" , file.writable())\n",
    "file.write(\"data science\")\n",
    "file.close()\n"
   ]
  },
  {
   "cell_type": "markdown",
   "id": "860f1888",
   "metadata": {},
   "source": [
    "# a"
   ]
  },
  {
   "cell_type": "code",
   "execution_count": 43,
   "id": "a542d06d",
   "metadata": {},
   "outputs": [
    {
     "name": "stdout",
     "output_type": "stream",
     "text": [
      "writable file :  True\n"
     ]
    }
   ],
   "source": [
    "### add end of the file  \n",
    "file = open(\"mytext.txt\" , \"a\")\n",
    "print(\"writable file : \" , file.writable())\n",
    "file.write(\"\\npython\")\n",
    "file.close()\n"
   ]
  },
  {
   "cell_type": "markdown",
   "id": "abf4e1fa",
   "metadata": {},
   "source": [
    "### with "
   ]
  },
  {
   "cell_type": "code",
   "execution_count": 6,
   "id": "3440bad5",
   "metadata": {},
   "outputs": [
    {
     "name": "stdout",
     "output_type": "stream",
     "text": [
      "writable file :  True\n"
     ]
    }
   ],
   "source": [
    "with open(\"mytext.txt\" , \"a\") as file : \n",
    "    print(\"writable file : \" , file.writable())\n",
    "    file.write(\"\\npython\")\n",
    "    file.close()"
   ]
  },
  {
   "cell_type": "markdown",
   "id": "87ee8ebe",
   "metadata": {},
   "source": [
    "# x"
   ]
  },
  {
   "cell_type": "code",
   "execution_count": null,
   "id": "eb24bc8f",
   "metadata": {},
   "outputs": [
    {
     "name": "stdout",
     "output_type": "stream",
     "text": [
      "writable file :  True\n"
     ]
    }
   ],
   "source": [
    "## add some line to the file that don't created before !!!\n",
    "file  =  open (\"don't created name.txt\" , \"x\")\n",
    "print(\"writable file : \" , file.writable())\n",
    "file .write(\"this is the new line to edit !!\")\n",
    "file.close()"
   ]
  },
  {
   "cell_type": "markdown",
   "id": "e1aa81c9",
   "metadata": {},
   "source": [
    "# example : "
   ]
  },
  {
   "cell_type": "code",
   "execution_count": null,
   "id": "68b76868",
   "metadata": {},
   "outputs": [],
   "source": [
    "# open the file \n",
    "# get list of prepath \n",
    "# get list of  path file \n",
    "## get list of path folder \n",
    "# read the file (path file) \n",
    "# write the files (path folder  + name of file )\n",
    "# remove the file (path file)\n",
    "\n",
    "import os \n",
    "path  = r\"C:\\Users\\ASUS\\Desktop\\File_handeling\"\n",
    "\n",
    "def list_of_file_path (path):      # open the file   # get list of prepath   # get list of  path file \n",
    "    list_files = []\n",
    "    set1 = set()\n",
    "    read_file = os.walk(path)\n",
    "    for p , directory  , files  in read_file: \n",
    "        for f in files:\n",
    "            file_pass  = os.path.join(p , f)\n",
    "            list_files.append(file_pass)\n",
    "            filter_part_2 = f.split(\".\")[-1]\n",
    "            set1.add(filter_part_2)\n",
    "    return list(set1) , list_files\n",
    "\n",
    "def get_list_of_folder_files (path , prepass):           # get list of path folder \n",
    "    list_of_file_path_folder = []\n",
    "    for p in prepass :\n",
    "        base_folder_name  = f\"folder_{p}\"\n",
    "        path_file  = os.path.join(path ,  base_folder_name)\n",
    "        list_of_file_path_folder.append(path_file)\n",
    "    return list_of_file_path_folder\n",
    "\n",
    "def make_new_folder_with_path(list_of_file_path_folder) :    #make a new folder \n",
    "    for i in list_of_file_path_folder :\n",
    "        os.mkdir(i)\n",
    "\n",
    "def cut_file_to_file(filepath , path): \n",
    "    for f in filepath :                                                                                       \n",
    "        with open(f , \"r\") as filereader :                                     \n",
    "            data  =  filereader.read()                 # read the file (path file)  \n",
    "        base_name  = os.path.basename(f)\n",
    "        ex_path  =  base_name.split(\".\")[-1]\n",
    "        folder_name  = f\"folder_{ex_path}\"\n",
    "        new_path_direction  = os.path.join(path , folder_name , base_name)\n",
    "        with open(new_path_direction , \"w\") as filewriter : \n",
    "            filewriter.write(data)                     # write the files (path folder  + name of file )\n",
    "        os.remove(f)                                      # remove the file (path file)\n",
    "        "
   ]
  },
  {
   "cell_type": "code",
   "execution_count": null,
   "id": "1921933a",
   "metadata": {},
   "outputs": [],
   "source": [
    "### test my result : \n",
    "prepath , filepath = list_of_file_path(path)\n",
    "list_of_file_path_folder = get_list_of_folder_files(path , prepath)\n",
    "make_new_folder_with_path(list_of_file_path_folder)\n",
    "cut_file_to_file(filepath , path )"
   ]
  },
  {
   "cell_type": "markdown",
   "id": "1b1594a5",
   "metadata": {},
   "source": [
    "### error handling "
   ]
  },
  {
   "cell_type": "markdown",
   "id": "79b90c9d",
   "metadata": {},
   "source": [
    "###### zerodivisionerror\n",
    "###### nameerror\n",
    "###### indexerror \n",
    "###### keyerror\n",
    "###### value error "
   ]
  },
  {
   "cell_type": "code",
   "execution_count": 3,
   "id": "45dc2215",
   "metadata": {},
   "outputs": [
    {
     "name": "stdout",
     "output_type": "stream",
     "text": [
      "ZeroDivisionError : division by zero\n",
      "end\n"
     ]
    }
   ],
   "source": [
    "x = 13 \n",
    "y = 0 \n",
    "try : \n",
    "    res  = x / y \n",
    "    print(res)\n",
    "except Exception as e :\n",
    "    print(f\"{e.__class__.__name__} : {e}\")\n",
    "print (\"end\")"
   ]
  },
  {
   "cell_type": "code",
   "execution_count": 4,
   "id": "8bdff96b",
   "metadata": {},
   "outputs": [
    {
     "name": "stdout",
     "output_type": "stream",
     "text": [
      "division by zero\n",
      "end\n"
     ]
    }
   ],
   "source": [
    "x = 13 \n",
    "y = 0 \n",
    "try : \n",
    "    res  = x / y \n",
    "    print(res)\n",
    "except  (IndexError , ZeroDivisionError , ValueError , TypeError) as e :\n",
    "    print(e)\n",
    "print (\"end\")"
   ]
  },
  {
   "cell_type": "markdown",
   "id": "073dc9e1",
   "metadata": {},
   "source": [
    "### locals()  - oserror"
   ]
  },
  {
   "cell_type": "code",
   "execution_count": 5,
   "id": "95e54efc",
   "metadata": {},
   "outputs": [
    {
     "name": "stdout",
     "output_type": "stream",
     "text": [
      "[Errno 2] No such file or directory: 'f_2.txt'\n"
     ]
    }
   ],
   "source": [
    "try:\n",
    "    file3 = open(\"f_2.txt\", \"r\")\n",
    "    data = file3.read()\n",
    "    print (data)\n",
    "except OSError as e:\n",
    "    print(e)\n",
    "finally:\n",
    "    if 'file3' in locals():\n",
    "        file3.close()"
   ]
  },
  {
   "cell_type": "markdown",
   "id": "aaec04f1",
   "metadata": {},
   "source": [
    "### raise  (make my error !!! )"
   ]
  },
  {
   "cell_type": "code",
   "execution_count": 5,
   "id": "02a533d2",
   "metadata": {},
   "outputs": [
    {
     "name": "stdout",
     "output_type": "stream",
     "text": [
      "loogged in !!\n"
     ]
    }
   ],
   "source": [
    "def login(username ,  password ) :\n",
    "    if not username  or  not password :\n",
    "        raise ValueError (\"user name and password are required !!\")\n",
    "    print(\"loogged in !!\")\n",
    "\n",
    "\n",
    "login(\"amirhossein\" , \"ayoubi\")"
   ]
  }
 ],
 "metadata": {
  "kernelspec": {
   "display_name": "Python 3",
   "language": "python",
   "name": "python3"
  },
  "language_info": {
   "codemirror_mode": {
    "name": "ipython",
    "version": 3
   },
   "file_extension": ".py",
   "mimetype": "text/x-python",
   "name": "python",
   "nbconvert_exporter": "python",
   "pygments_lexer": "ipython3",
   "version": "3.13.0"
  }
 },
 "nbformat": 4,
 "nbformat_minor": 5
}
