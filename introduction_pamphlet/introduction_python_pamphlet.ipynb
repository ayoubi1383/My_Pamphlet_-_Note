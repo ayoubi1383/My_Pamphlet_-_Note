{
 "cells": [
  {
   "cell_type": "markdown",
   "id": "707ea364",
   "metadata": {},
   "source": [
    "### introduction"
   ]
  },
  {
   "cell_type": "code",
   "execution_count": 10,
   "id": "482ad95a",
   "metadata": {},
   "outputs": [
    {
     "name": "stdout",
     "output_type": "stream",
     "text": [
      "11 22\n",
      "<class 'int'>\n"
     ]
    }
   ],
   "source": [
    "num1 , num2 = 13,\"44\" \n",
    "exnum1 , exnum2 = 11 , 22\n",
    "num1 , num2 = exnum1, exnum2\n",
    "print(num1,num2)\n",
    "print(type(num2))"
   ]
  },
  {
   "cell_type": "markdown",
   "id": "2e7a7b9a",
   "metadata": {},
   "source": [
    "##### count(“that’s your world”) => count your world in the message \n",
    "##### Find() , rfind() ==> not found ==> -1\n",
    "##### Index() , rindex()  not found  value error\n",
    "##### Startwith() , endwith()  not found   False\n",
    "##### Replace(“the first world” , “the second world” )\n",
    "##### Isdigit() , isalpha()  میبینه ایا استرینگ من شامل عدد یا حروف هستش یا نه  true or false "
   ]
  },
  {
   "cell_type": "markdown",
   "id": "260ec294",
   "metadata": {},
   "source": [
    "### aski code"
   ]
  },
  {
   "cell_type": "code",
   "execution_count": 12,
   "id": "159d792a",
   "metadata": {},
   "outputs": [
    {
     "name": "stdout",
     "output_type": "stream",
     "text": [
      "65\n",
      "A\n"
     ]
    }
   ],
   "source": [
    "char1 = \"A\"\n",
    "resalt1  = ord(char1)\n",
    "print(resalt1)\n",
    "#-------------------------------\n",
    "print(chr(65))"
   ]
  },
  {
   "cell_type": "markdown",
   "id": "1b69a419",
   "metadata": {},
   "source": [
    "### copy in list (shallow copy) and (deep copy)"
   ]
  },
  {
   "cell_type": "markdown",
   "id": "7d42da7a",
   "metadata": {},
   "source": [
    "###### دیپ کپی در تاپل و ست معنا ندارد و فقط بر روی لیست و دیکشنری کاربرد دارد "
   ]
  },
  {
   "cell_type": "code",
   "execution_count": 25,
   "id": "1f515720",
   "metadata": {},
   "outputs": [
    {
     "name": "stdout",
     "output_type": "stream",
     "text": [
      "list1 : [2, 13, 17]  and list2 : [2, 13, 17]\n",
      "list1 : [2, 13, 17, 22]  and list2 : [2, 13, 17, 22]\n"
     ]
    }
   ],
   "source": [
    "list1 = [2,13,17]\n",
    "list2  =list1\n",
    "print(f\"list1 : {list1}  and list2 : {list2}\")\n",
    "list1.append(22)\n",
    "print(f\"list1 : {list1}  and list2 : {list2}\")"
   ]
  },
  {
   "cell_type": "code",
   "execution_count": 26,
   "id": "49a8e015",
   "metadata": {},
   "outputs": [
    {
     "name": "stdout",
     "output_type": "stream",
     "text": [
      "list1 : [2, 13, 17]  and list2 : [2, 13, 17]\n",
      "list1 : [2, 13, 17, 22]  and list2 : [2, 13, 17]\n"
     ]
    }
   ],
   "source": [
    "list1 = [2,13,17]\n",
    "list2  =list(list1)  \n",
    "print(f\"list1 : {list1}  and list2 : {list2}\")\n",
    "list1.append(22)\n",
    "print(f\"list1 : {list1}  and list2 : {list2}\")"
   ]
  },
  {
   "cell_type": "code",
   "execution_count": 27,
   "id": "b957c3ea",
   "metadata": {},
   "outputs": [
    {
     "name": "stdout",
     "output_type": "stream",
     "text": [
      "list1 : [2, 13, 17, 22]  and list2 : [2, 13, 17]\n"
     ]
    }
   ],
   "source": [
    "### shallow copy \n",
    "list1 = [2,13,17]\n",
    "list2  = list1.copy()\n",
    "list1.append(22)\n",
    "print(f\"list1 : {list1}  and list2 : {list2}\")"
   ]
  },
  {
   "cell_type": "code",
   "execution_count": 23,
   "id": "e965439b",
   "metadata": {},
   "outputs": [
    {
     "name": "stdout",
     "output_type": "stream",
     "text": [
      "5\n",
      "[1, 2, 4, [3, 200, 7]] [1, 2, 4, [3, 5, 7]]\n"
     ]
    }
   ],
   "source": [
    "### deep copy : \n",
    "import copy \n",
    "list1 = [1, 2, 4, [3, 5, 7]]\n",
    "print(list1[3] [1])\n",
    "list2 = copy.deepcopy(list1)\n",
    "list1[3] [1] = 200\n",
    "print(list1, list2)"
   ]
  },
  {
   "cell_type": "markdown",
   "id": "184cc1b4",
   "metadata": {},
   "source": [
    "### map and enumerate and Zip  "
   ]
  },
  {
   "cell_type": "code",
   "execution_count": null,
   "id": "1e9d2d00",
   "metadata": {},
   "outputs": [
    {
     "name": "stdout",
     "output_type": "stream",
     "text": [
      "[3, 5, 12, 13, 22]\n"
     ]
    }
   ],
   "source": [
    "### map  : \n",
    "list1 = [\"3\", \"5\", \"12\" , \"13\" , \"22\"]\n",
    "list2  = list(map(int , list1))\n",
    "print(list2)"
   ]
  },
  {
   "cell_type": "code",
   "execution_count": null,
   "id": "4efb3f88",
   "metadata": {},
   "outputs": [
    {
     "name": "stdout",
     "output_type": "stream",
     "text": [
      "[3, 5, 12, 13, 22]\n"
     ]
    }
   ],
   "source": [
    "list1 = [\"3\", \"5\", \"12\" , \"13\" , \"22\"]\n",
    "list2  = [ ]\n",
    "for i in list1 :\n",
    "    list2.append(int(i))\n",
    "print (list2)"
   ]
  },
  {
   "cell_type": "code",
   "execution_count": null,
   "id": "6de16a95",
   "metadata": {},
   "outputs": [
    {
     "name": "stdout",
     "output_type": "stream",
     "text": [
      "[6, 6, 22, 21]\n"
     ]
    }
   ],
   "source": [
    "### map : \n",
    "def sum_numbers (num1 , num2 ):\n",
    "    res  = num1 + num2\n",
    "    return res \n",
    "\n",
    "list1 = [3, 1, 6, 13, 15] # 0, 1, 2, 3, 4\n",
    "list2 = [3, 5, 16, 8 ]# 4 === > IndexError\n",
    "list3 = list(map(sum_numbers, list1, list2))\n",
    "print(list3)"
   ]
  },
  {
   "cell_type": "code",
   "execution_count": 5,
   "id": "2a44c7ed",
   "metadata": {},
   "outputs": [
    {
     "name": "stdout",
     "output_type": "stream",
     "text": [
      "0 and purple\n",
      "1 and green\n",
      "2 and yellow\n",
      "3 and black\n",
      "4 and white\n"
     ]
    }
   ],
   "source": [
    "### enumerate : \n",
    "color = [\"purple\" , \"green\", \"yellow\" , \"black\", \"white\" ]\n",
    "for index , each_color in enumerate(color):\n",
    "    print(index,\"and\" , each_color)\n"
   ]
  },
  {
   "cell_type": "code",
   "execution_count": 12,
   "id": "487948a7",
   "metadata": {},
   "outputs": [
    {
     "name": "stdout",
     "output_type": "stream",
     "text": [
      "p1 200 r\n",
      "p2 130 b\n",
      "p3 300 y\n"
     ]
    }
   ],
   "source": [
    "### zip : \n",
    "name = [\"p1\", \"p2\", \"p3\"]\n",
    "price = (200, 130, 300)\n",
    "color =(\"r\", \"b\", \"y\")\n",
    "products = list(zip(name, price, color))\n",
    "for n , p , c  in products: \n",
    "    print(n , p , c)\n"
   ]
  },
  {
   "cell_type": "markdown",
   "id": "7782737b",
   "metadata": {},
   "source": [
    "### defind function (lambda)"
   ]
  },
  {
   "cell_type": "code",
   "execution_count": null,
   "id": "e884bc06",
   "metadata": {},
   "outputs": [],
   "source": [
    "def sum_numbers (num1 , num2 ):\n",
    "    res  = num1 + num2\n",
    "    return res \n",
    "\n",
    "### or we can write this ==> \n",
    "\n",
    "sum_numbers2 = lambda num1 , num2 :  num1 + num2"
   ]
  },
  {
   "cell_type": "markdown",
   "id": "a910de4b",
   "metadata": {},
   "source": [
    "### dictionary  (add and insert) "
   ]
  },
  {
   "cell_type": "code",
   "execution_count": 7,
   "id": "94c774ea",
   "metadata": {},
   "outputs": [],
   "source": [
    "book = {\n",
    "    \"name\" : \"python\",\n",
    "    \"price \" : 230_000 ,\n",
    "    \"year\" : 2024 \n",
    "}\n",
    "book_updater = {\n",
    "    \"name\" : \"python\",\n",
    "    \"price \" : 230_000 ,\n",
    "    \"year\" : 2025 , \n",
    "    \"color\" : \"yellow\" ,\n",
    "    \"publisher\" : \"taylor\" ,\n",
    "    \"import date\" : 13\n",
    "}"
   ]
  },
  {
   "cell_type": "code",
   "execution_count": 33,
   "id": "db48b5ef",
   "metadata": {},
   "outputs": [
    {
     "name": "stdout",
     "output_type": "stream",
     "text": [
      "{'name': 'python', 'price ': 230000, 'year': 2025, 'publisher': 'taylor', 'color': 'yellow', 'import date': 13}\n",
      "not found !!\n",
      "python\n"
     ]
    }
   ],
   "source": [
    "\n",
    "###  types of updater : \n",
    "book [\"publisher\"] = \"Atslover\"\n",
    "book [\"year\"] = 2025\n",
    "book.update({'name': 'python', 'price ': 230000, 'year': 2025, 'publisher': 'Atslover' , \"color\" : \"purple\"})\n",
    "book.update(book_updater)\n",
    "# or we can use this for update :\n",
    "book |= book_updater\n",
    "\n",
    "### execute \n",
    "print(book)\n",
    "print(book.get(\"pages\" , \"not found !!\")) ## not makes any error\n",
    "print(book[\"name\"])  ## makes an error "
   ]
  },
  {
   "cell_type": "markdown",
   "id": "8d0a2e8b",
   "metadata": {},
   "source": [
    "### dictionary (removing)"
   ]
  },
  {
   "cell_type": "code",
   "execution_count": null,
   "id": "22c1781c",
   "metadata": {},
   "outputs": [
    {
     "name": "stdout",
     "output_type": "stream",
     "text": [
      "not found this item\n",
      "('color', 'yellow')\n",
      "{'price ': 230000, 'publisher': 'taylor'}\n"
     ]
    }
   ],
   "source": [
    "#type 1==>\n",
    "name = book.pop(\"name\" , \"not found this item\") \n",
    "print(name)\n",
    "\n",
    "# type 2 ==> \n",
    "name2  = book.popitem() \n",
    "print(name2)\n",
    "\n",
    "# type 3 ==> \n",
    "del book[\"year\"] \n",
    "print(book) "
   ]
  },
  {
   "cell_type": "markdown",
   "id": "5ccdbf52",
   "metadata": {},
   "source": [
    "### dictionary (searching)"
   ]
  },
  {
   "cell_type": "code",
   "execution_count": 8,
   "id": "de5cd6c2",
   "metadata": {},
   "outputs": [
    {
     "name": "stdout",
     "output_type": "stream",
     "text": [
      "yes\n"
     ]
    }
   ],
   "source": [
    "if \"name\" in book.keys(): # (book) and (book.keys()) both of them is the same \n",
    "    print(\"yes\")\n",
    "else:\n",
    "    print(\"no\")"
   ]
  },
  {
   "cell_type": "markdown",
   "id": "643662b9",
   "metadata": {},
   "source": [
    "### local and global "
   ]
  },
  {
   "cell_type": "code",
   "execution_count": null,
   "id": "0ebf9103",
   "metadata": {},
   "outputs": [
    {
     "name": "stdout",
     "output_type": "stream",
     "text": [
      "10\n",
      "11\n",
      "result of local x :  10\n",
      "10\n",
      "11\n",
      "result of global x :  11\n"
     ]
    }
   ],
   "source": [
    "### local x \n",
    "def add1(x):\n",
    "    x += 1\n",
    "    print(x)\n",
    "\n",
    "### global x \n",
    "def add2():\n",
    "    global x \n",
    "    x += 1\n",
    "    print(x)\n",
    "#-----------------------------------------\n",
    "x = 10\n",
    "\n",
    "## test local x :\n",
    "print(x)\n",
    "add1(x)\n",
    "print( \"result of local x : \", x)\n",
    "\n",
    "## test global x : \n",
    "print(x)\n",
    "add2()\n",
    "print(\"result of global x : \" , x)"
   ]
  },
  {
   "cell_type": "markdown",
   "id": "e6c8270e",
   "metadata": {},
   "source": [
    "### datetime library "
   ]
  },
  {
   "cell_type": "code",
   "execution_count": 10,
   "id": "59b70b4f",
   "metadata": {},
   "outputs": [
    {
     "name": "stdout",
     "output_type": "stream",
     "text": [
      "2025 - 07 - 05\n",
      " the old date is : 2005-01-28 and the new date is 2005-01-29\n"
     ]
    }
   ],
   "source": [
    "import datetime \n",
    "\n",
    "### strftime()\n",
    "print(datetime.datetime.now().strftime(\"%Y - %m - %d\"))\n",
    "\n",
    "###strptime()\n",
    "date_time = datetime.datetime.strptime(\"2005 - 01 - 28\" , \"%Y - %m - %d\").date() # or time()\n",
    "\n",
    "### timedelta(days= 1)\n",
    "new_date_time  = date_time + datetime.timedelta(days= 1)\n",
    "print(f\" the old date is : {date_time} and the new date is {new_date_time}\")\n"
   ]
  },
  {
   "cell_type": "markdown",
   "id": "7d0e8407",
   "metadata": {},
   "source": [
    "### tuple (define , insert , edit , removing )"
   ]
  },
  {
   "cell_type": "code",
   "execution_count": 2,
   "id": "d84ef96f",
   "metadata": {},
   "outputs": [
    {
     "name": "stdout",
     "output_type": "stream",
     "text": [
      "<class 'tuple'>\n",
      "(20, 22, 13, 33) <class 'tuple'>\n"
     ]
    }
   ],
   "source": [
    "t1 = (20,) ### \",\" is vary important in here to define tuple mode !!\n",
    "print(type(t1))\n",
    "\n",
    "t2 = 20, 22 ,13 , 33 ### for tuple , \"()\" doesn't very important here \n",
    "print (t2 , type(t2))"
   ]
  },
  {
   "cell_type": "markdown",
   "id": "bd66add4",
   "metadata": {},
   "source": [
    "###### در تاپل ها اضافه یا حذف کردن داده ها مجاز نمیباشد و حتما ارور میدهد . برای رفع مشکل باید ان را به لیست تبدیل کرده ، بر روی ان ادیت کرده و یا اضافه و حذف کرده و در اخر ان را به تاپل تبدیل میکنیم \n"
   ]
  },
  {
   "cell_type": "code",
   "execution_count": 4,
   "id": "3dacf8f1",
   "metadata": {},
   "outputs": [
    {
     "name": "stdout",
     "output_type": "stream",
     "text": [
      "(3, 12, 14, 45) <class 'tuple'>\n",
      "[3, 12, 14, 45] <class 'list'>\n",
      "[3, 20, 12, 14, 45, 200] <class 'list'>\n",
      "(3, 20, 12, 14, 45, 200) <class 'tuple'>\n",
      "the new tuple :  (3, 20, 12, 14, 45, 200, 50)\n"
     ]
    }
   ],
   "source": [
    "### example :\n",
    "\n",
    "t1 = (3, 12, 14, 45)\n",
    "print(t1, type(t1))\n",
    "# Modify\n",
    "t1 = list(t1)\n",
    "print(t1, type(t1))\n",
    "# add\n",
    "t1.append(200)\n",
    "t1.insert(1, 20)\n",
    "print(t1, type(t1))\n",
    "# Modify\n",
    "t1 = tuple(t1)\n",
    "print(t1, type(t1))\n",
    "\n",
    "### the way 2 : \n",
    "t1  = t1 + (50 ,)\n",
    "print(\"the new tuple : \" , t1)\n"
   ]
  },
  {
   "cell_type": "code",
   "execution_count": null,
   "id": "ff758752",
   "metadata": {},
   "outputs": [
    {
     "name": "stdout",
     "output_type": "stream",
     "text": [
      "(33, 23, 22, 13, 12, 5)\n",
      "(33, 23, 22, 13, 12, 5)\n"
     ]
    }
   ],
   "source": [
    "### sorting in tuple :\n",
    "\n",
    "t1 = (12, 5 ,13, 33 ,23 ,22)\n",
    "\n",
    "###sorting type 1 : \n",
    "t1_sorted1 = tuple(sorted(t1 ,reverse= True))\n",
    "print(t1_sorted1)\n",
    "\n",
    "### sorting type 2 : \n",
    "t1_sorted2 = list(t1)\n",
    "t1_sorted2.sort(reverse=True)\n",
    "t1_sorted2 = tuple(t1_sorted2)\n",
    "print(t1_sorted2)\n"
   ]
  },
  {
   "cell_type": "markdown",
   "id": "21be40f4",
   "metadata": {},
   "source": [
    "### type of output in variable "
   ]
  },
  {
   "cell_type": "code",
   "execution_count": null,
   "id": "fc4ef209",
   "metadata": {},
   "outputs": [
    {
     "name": "stdout",
     "output_type": "stream",
     "text": [
      "[12, 13] 15 14\n",
      "(12, 13, 14, 15)\n"
     ]
    }
   ],
   "source": [
    "*x , y , z  = 12,13,15,14\n",
    "print(x,y,z)\n",
    "\n",
    "resalt  = 12 , 13, 14,15 \n",
    "print(resalt) \n"
   ]
  },
  {
   "cell_type": "markdown",
   "id": "0b2f16a9",
   "metadata": {},
   "source": [
    "## set "
   ]
  },
  {
   "cell_type": "markdown",
   "id": "5efd9491",
   "metadata": {},
   "source": [
    "######  نه ایندکس ولیو هستش و نه کییی ولیو  برای دسترسی باید حتما حلقه زد  و برای حذف ان باید حتما بر اساس ولیو ان را پاک کرد "
   ]
  },
  {
   "cell_type": "code",
   "execution_count": null,
   "id": "3da1b1d9",
   "metadata": {},
   "outputs": [
    {
     "name": "stdout",
     "output_type": "stream",
     "text": [
      "{33, 2, 1, 4, 5, 12}\n"
     ]
    }
   ],
   "source": [
    "### removing  \n",
    "set1 = {12, 13, 33 ,1, 2, 1, 4, 5,3, 4, 3}\n",
    "set1.remove(3)  ## makes an error\n",
    "set1.discard(13) ## doesn't make error\n",
    "print(set1)"
   ]
  },
  {
   "cell_type": "markdown",
   "id": "121d4eb5",
   "metadata": {},
   "source": [
    "### \"os\" library and work  with \"walk\" method"
   ]
  },
  {
   "cell_type": "code",
   "execution_count": 20,
   "id": "c756441d",
   "metadata": {},
   "outputs": [
    {
     "name": "stdout",
     "output_type": "stream",
     "text": [
      "['vsdx', 'jpg', 'pdf', 'png', 'ini']\n"
     ]
    }
   ],
   "source": [
    "import os \n",
    "\n",
    "setter_files = set()\n",
    "pathh =  \"/Users/ASUS/Desktop/picture of cctv\" \n",
    "extract  = list(os.walk(pathh))\n",
    "# شامل لیست کلی\n",
    "#   که شامل تاپلی\n",
    "#  که هر تاپل دارای سه تا لیست میباشد \n",
    "# که عضو اول ادرس\n",
    "# ادرس دوم اسم پوشه های موجود در ان ادرس و\n",
    "#  در نهایت فایل های موجود در ان ادرس داده شده است \n",
    "\n",
    "for path  ,  directory  , files  in extract : \n",
    "    for f in files : \n",
    "        file  = f.split(\".\")[-1]\n",
    "        setter_files.add(file) ##   برای جلوگیری از داده های تکراری در لیست نهاییمان استفاده میکنیم \n",
    "print(list(setter_files))"
   ]
  }
 ],
 "metadata": {
  "kernelspec": {
   "display_name": "Python 3",
   "language": "python",
   "name": "python3"
  },
  "language_info": {
   "codemirror_mode": {
    "name": "ipython",
    "version": 3
   },
   "file_extension": ".py",
   "mimetype": "text/x-python",
   "name": "python",
   "nbconvert_exporter": "python",
   "pygments_lexer": "ipython3",
   "version": "3.13.0"
  }
 },
 "nbformat": 4,
 "nbformat_minor": 5
}
