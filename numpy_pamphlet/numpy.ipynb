{
 "cells": [
  {
   "cell_type": "code",
   "execution_count": 2,
   "id": "e4abb148",
   "metadata": {},
   "outputs": [],
   "source": [
    "import numpy as np"
   ]
  },
  {
   "cell_type": "markdown",
   "id": "3f87bda4",
   "metadata": {},
   "source": [
    "### array ()"
   ]
  },
  {
   "cell_type": "code",
   "execution_count": 2,
   "id": "a0df46ae",
   "metadata": {},
   "outputs": [
    {
     "name": "stdout",
     "output_type": "stream",
     "text": [
      "<class 'numpy.ndarray'>\n"
     ]
    }
   ],
   "source": [
    "listOfNumber  = [13,23,21,22,5,56,89]\n",
    "arrayOfNumber  = np.array(listOfNumber)\n",
    "print(type(arrayOfNumber))"
   ]
  },
  {
   "cell_type": "code",
   "execution_count": null,
   "id": "1e8ad4a7",
   "metadata": {},
   "outputs": [],
   "source": [
    "np.int8 ; ###   -128 to 127\n",
    "np.uint8 ;  ### np.int8  *2\n",
    "np.int16;  ### -32,768 to 32,767\n",
    "np.uint16 ; ###  np.int16 *2\n",
    "np.int32; ###  -2,147,483,648  to  2,147,483,647\n",
    "np.uint32 ; ### np.int32 *2\n",
    "np.int64 ; ### -9,223,372,036,854,775,808  to  9,223,372,036,854,775,807\n",
    "np.uint64 ; ### np.int64 *2\n",
    "np.int_ ; ### look like np.int64  (basic int in python )\n",
    "### ----------------------------------------------------------------------------------------------------------\n",
    "np.float16 ; \n",
    "np.float32 ; \n",
    "np.float96 ; \n",
    "np.float128 ; \n",
    "### ----------------------------------------------------------------------------------------------------------\n",
    "np.bool_ ; \n",
    "### ----------------------------------------------------------------------------------------------------------\n"
   ]
  },
  {
   "cell_type": "markdown",
   "id": "ba5ecca0",
   "metadata": {},
   "source": [
    "##### flexibility (upcasting) "
   ]
  },
  {
   "cell_type": "code",
   "execution_count": 4,
   "id": "ce0838a5",
   "metadata": {},
   "outputs": [
    {
     "name": "stdout",
     "output_type": "stream",
     "text": [
      "['python' '12' '22' '13' '15.5']\n"
     ]
    }
   ],
   "source": [
    "arr1  = np.array([\"python\" , 12, 22 , 13 , 15.5 ])\n",
    "print(arr1)"
   ]
  },
  {
   "cell_type": "markdown",
   "id": "f0e4c9f7",
   "metadata": {},
   "source": [
    "##### .dtype"
   ]
  },
  {
   "cell_type": "code",
   "execution_count": 6,
   "id": "5e7d6714",
   "metadata": {},
   "outputs": [
    {
     "name": "stdout",
     "output_type": "stream",
     "text": [
      "<U32\n"
     ]
    }
   ],
   "source": [
    "arr1  = np.array([\"python\" , 12, -22 , 13 , 15.5 ])\n",
    "print(arr1.dtype)"
   ]
  },
  {
   "cell_type": "markdown",
   "id": "b93bd282",
   "metadata": {},
   "source": [
    "##### astype()    or dtype = ..."
   ]
  },
  {
   "cell_type": "code",
   "execution_count": 8,
   "id": "d9f381fa",
   "metadata": {},
   "outputs": [
    {
     "name": "stdout",
     "output_type": "stream",
     "text": [
      "int8\n"
     ]
    }
   ],
   "source": [
    "arr2  = np.array([12,23,13,14]).astype(np.int8)\n",
    "print(arr2.dtype)"
   ]
  },
  {
   "cell_type": "code",
   "execution_count": null,
   "id": "3593808c",
   "metadata": {},
   "outputs": [
    {
     "name": "stdout",
     "output_type": "stream",
     "text": [
      "int8\n"
     ]
    }
   ],
   "source": [
    "arr2  = np.array([12,23,13,14] , dtype= np.int8)\n",
    "print(arr2.dtype)"
   ]
  },
  {
   "cell_type": "markdown",
   "id": "9edf0dcc",
   "metadata": {},
   "source": [
    "##### string "
   ]
  },
  {
   "cell_type": "code",
   "execution_count": null,
   "id": "46dfbaba",
   "metadata": {},
   "outputs": [
    {
     "name": "stdout",
     "output_type": "stream",
     "text": [
      "|S3\n",
      "[b'pyt' b'ami']\n"
     ]
    }
   ],
   "source": [
    "arr3 = np.array([\"python1234\" , \"amir\"]  , dtype= \"S3\")  ## or \"U4\"\n",
    "print(arr3.dtype)\n",
    "print(arr3)\n",
    "\n",
    "## U ==> ascii  + not ascii \n",
    "## S ==> not ascii "
   ]
  },
  {
   "cell_type": "markdown",
   "id": "cfb082b4",
   "metadata": {},
   "source": [
    "### .shape  ,   .ndim"
   ]
  },
  {
   "cell_type": "code",
   "execution_count": 32,
   "id": "df70b381",
   "metadata": {},
   "outputs": [
    {
     "name": "stdout",
     "output_type": "stream",
     "text": [
      "10\n",
      "()\n",
      "0\n"
     ]
    }
   ],
   "source": [
    "#0d \n",
    "arr_0d = np.array(10)\n",
    "print(arr_0d)\n",
    "print(arr_0d.shape)\n",
    "print(arr_0d.ndim)"
   ]
  },
  {
   "cell_type": "code",
   "execution_count": 33,
   "id": "07a8e68f",
   "metadata": {},
   "outputs": [
    {
     "name": "stdout",
     "output_type": "stream",
     "text": [
      "[12 13 14]\n",
      "(3,)\n",
      "1\n"
     ]
    }
   ],
   "source": [
    "#1d \n",
    "arr_1d = np.array([12,13,14] , dtype= \"i1\")\n",
    "print(arr_1d)\n",
    "print(arr_1d.shape)\n",
    "print(arr_1d.ndim)"
   ]
  },
  {
   "cell_type": "code",
   "execution_count": null,
   "id": "6fb594b7",
   "metadata": {},
   "outputs": [
    {
     "name": "stdout",
     "output_type": "stream",
     "text": [
      "[[12 13 14]\n",
      " [20 23 22]]\n",
      "(2, 3)\n",
      "2\n"
     ]
    }
   ],
   "source": [
    "#2d (matrix)\n",
    "arr_2d = np.array([[12,13,14],\n",
    "                                [20 ,23, 22]] ,  dtype=\"i1\")\n",
    "print(arr_2d)\n",
    "print(arr_2d.shape)\n",
    "print(arr_2d.ndim)"
   ]
  },
  {
   "cell_type": "code",
   "execution_count": 35,
   "id": "8062a87e",
   "metadata": {},
   "outputs": [
    {
     "name": "stdout",
     "output_type": "stream",
     "text": [
      "[[[1]\n",
      "  [2]\n",
      "  [3]]\n",
      "\n",
      " [[4]\n",
      "  [5]\n",
      "  [6]]]\n",
      "(2, 3, 1)\n",
      "3\n"
     ]
    }
   ],
   "source": [
    "#3d \n",
    "arr_3d = np.array([\n",
    "    [[1], [2], [3]],\n",
    "    [[4], [5], [6]]\n",
    "] ,  dtype=\"i1\")\n",
    "print(arr_3d)\n",
    "print(arr_3d.shape)\n",
    "print(arr_3d.ndim)"
   ]
  },
  {
   "cell_type": "markdown",
   "id": "82058e78",
   "metadata": {},
   "source": [
    "### flatten()  , order  = (\"C\" or \"F\" )"
   ]
  },
  {
   "cell_type": "code",
   "execution_count": 36,
   "id": "061af5b3",
   "metadata": {},
   "outputs": [
    {
     "name": "stdout",
     "output_type": "stream",
     "text": [
      "[[39 20]\n",
      " [ 3 12]]\n",
      "[[39 20]\n",
      " [ 3 12]]\n"
     ]
    }
   ],
   "source": [
    "arr1 = np.array([ [39,20] , [3,12] ] , order = \"C\")\n",
    "arr2 = np.array([ [39,20] , [3,12] ] , order = \"F\")\n",
    "print(arr1)\n",
    "print(arr2) "
   ]
  },
  {
   "cell_type": "code",
   "execution_count": 38,
   "id": "9a31fd70",
   "metadata": {},
   "outputs": [
    {
     "name": "stdout",
     "output_type": "stream",
     "text": [
      "[39 20  3 12]\n",
      "[39  3 20 12]\n"
     ]
    }
   ],
   "source": [
    "arr1 = arr1.flatten(order=\"C\") \n",
    "arr2  = arr2.flatten(order = \"F\")\n",
    "print(arr1)   \n",
    "print(arr2) \n",
    "\n",
    "# \"C\"  ==>  reading by row \n",
    "# \"F\"  ==> reading by column "
   ]
  },
  {
   "cell_type": "markdown",
   "id": "84b4eaed",
   "metadata": {},
   "source": [
    "### indexing (reading)"
   ]
  },
  {
   "cell_type": "code",
   "execution_count": 39,
   "id": "4c745054",
   "metadata": {},
   "outputs": [
    {
     "name": "stdout",
     "output_type": "stream",
     "text": [
      "13\n"
     ]
    }
   ],
   "source": [
    "#1d \n",
    "arr_1d = np.array([12,13,14] , dtype= \"i1\")\n",
    "print(arr_1d[1])"
   ]
  },
  {
   "cell_type": "code",
   "execution_count": 44,
   "id": "a1773db5",
   "metadata": {},
   "outputs": [
    {
     "name": "stdout",
     "output_type": "stream",
     "text": [
      "20\n",
      "20\n"
     ]
    }
   ],
   "source": [
    "#2d (matrix)\n",
    "arr_2d = np.array([[12,13,14],\n",
    "                                [20 ,23, 22]] ,  dtype=\"i1\")\n",
    "\n",
    "print(arr_2d[1,0])\n",
    "print(arr_2d[1][0])"
   ]
  },
  {
   "cell_type": "code",
   "execution_count": 48,
   "id": "08f96f93",
   "metadata": {},
   "outputs": [
    {
     "name": "stdout",
     "output_type": "stream",
     "text": [
      "6\n",
      "6\n"
     ]
    }
   ],
   "source": [
    "#3d \n",
    "arr_3d = np.array([\n",
    "    [[1], [2], [3]],\n",
    "    [[4], [5], [6]]\n",
    "] ,  dtype=\"i1\")\n",
    "\n",
    "print(arr_3d[1,2,0])\n",
    "print(arr_3d[1][2][0])"
   ]
  },
  {
   "cell_type": "markdown",
   "id": "344ae2ac",
   "metadata": {},
   "source": [
    "### slicing "
   ]
  },
  {
   "cell_type": "code",
   "execution_count": 49,
   "id": "092a061a",
   "metadata": {},
   "outputs": [
    {
     "name": "stdout",
     "output_type": "stream",
     "text": [
      "[13 14 15 16]\n"
     ]
    }
   ],
   "source": [
    "#1d \n",
    "arr_1d = np.array([12,13,14 , 15 ,16, 17] , dtype= \"i1\")\n",
    "print(arr_1d[1:5])"
   ]
  },
  {
   "cell_type": "code",
   "execution_count": 54,
   "id": "59ebf9e5",
   "metadata": {},
   "outputs": [
    {
     "name": "stdout",
     "output_type": "stream",
     "text": [
      "[[1 2 3]\n",
      " [4 5 6]]\n",
      "[[2 3]\n",
      " [5 6]]\n",
      "[[2 3]\n",
      " [5 6]\n",
      " [8 9]]\n",
      "[2 5 8]\n"
     ]
    }
   ],
   "source": [
    "#2d (matrix)\n",
    "arr_2d = np.array([[1, 2, 3] ,\n",
    "                                 [4, 5, 6] , \n",
    "                                 [7, 8, 9]] ,  dtype=\"i1\")\n",
    "\n",
    "print(arr_2d[0:2])\n",
    "print(arr_2d[:2 , 1:3])\n",
    "print(arr_2d[: , 1:3])\n",
    "print(arr_2d[: , 1])"
   ]
  },
  {
   "cell_type": "code",
   "execution_count": 56,
   "id": "63d2706f",
   "metadata": {},
   "outputs": [
    {
     "name": "stdout",
     "output_type": "stream",
     "text": [
      "[3 9]\n"
     ]
    }
   ],
   "source": [
    "#3d \n",
    "arr_3d = np.array([[[1 ,2 ,3] , [4, 5, 6]] , [[7, 8, 9] , [10, 11, 12]]] ,  dtype=\"i1\")\n",
    "\n",
    "print(arr_3d[: , 0 , 2])"
   ]
  },
  {
   "cell_type": "markdown",
   "id": "cb7f0b27",
   "metadata": {},
   "source": [
    "### filtering  +  where"
   ]
  },
  {
   "cell_type": "code",
   "execution_count": 35,
   "id": "ce8059ed",
   "metadata": {},
   "outputs": [
    {
     "name": "stdout",
     "output_type": "stream",
     "text": [
      "[20 40]\n",
      "[False False  True  True]\n",
      "[40 50]\n",
      "[20 30 50]\n",
      "(array([2, 3]),)\n",
      "[-1 -1 10 10]\n",
      "[ 0 30 40  0]\n"
     ]
    }
   ],
   "source": [
    "arr_1d = np.array([20, 30, 40, 50] ,  dtype=\"i1\")\n",
    "arr_1_1d = np.array([25,2, 24, 60] , dtype= \"i1\")\n",
    "arr2 = np.array([True , False , True , False])\n",
    "arr3  = arr_1d[arr2]\n",
    "print(arr3)\n",
    "\n",
    "resalt = arr_1d > 30 ##  filtering type one \n",
    "print(resalt)\n",
    "\n",
    "print( arr_1d[arr_1d> 30])  ## filtering type two \n",
    "\n",
    "arr3  = arr_1d[arr_1d != 40]  ## removing with filter \n",
    "print(arr3)\n",
    "\n",
    "result1 = np.where(arr_1d > 30)       ## return insex of arr_1d !!\n",
    "print(result1)\n",
    "\n",
    "result2 = np.where(arr_1d > 30 , 10 , -1)  ##  if the condition is true ==> 10 , if it's false ==> -1\n",
    "print(result2)\n",
    "\n",
    "result3  = np.where(arr_1d > arr_1_1d , arr_1d , 0 )  \n",
    "print(result3)\n",
    "\n",
    "###   in metrix  2*2  we give to array in output :  row and column \n",
    "\n"
   ]
  },
  {
   "cell_type": "code",
   "execution_count": 3,
   "id": "8abd6477",
   "metadata": {},
   "outputs": [
    {
     "name": "stdout",
     "output_type": "stream",
     "text": [
      "[[3 4]\n",
      " [8 9]]\n"
     ]
    }
   ],
   "source": [
    "arr1 = np.array([[1, 2], [3, 4]])\n",
    "arr2 = np.array( [ [2], [5] ] )\n",
    "print(arr1 + arr2)"
   ]
  },
  {
   "cell_type": "code",
   "execution_count": null,
   "id": "00cb6277",
   "metadata": {},
   "outputs": [
    {
     "name": "stdout",
     "output_type": "stream",
     "text": [
      "all data : 45\n",
      "columns : [12 15 18]\n",
      "rows : [ 6 15 24]\n"
     ]
    }
   ],
   "source": [
    "m1  = np.array([[1, 2, 3], \n",
    "                            [4, 5, 6], \n",
    "                            [7, 8, 9]] , dtype=\"i1\")\n",
    "sum_data = np.sum(m1)                ## sum  all data in m1 \n",
    "print(f\"all data : {sum_data}\")\n",
    "sum_columns = np.sum(m1 , axis=0)          ## sum data by columns ==> axis =0\n",
    "print(f\"columns : {sum_columns}\")\n",
    "sum_rows = np.sum(m1 , axis=1)                ## sum data by rows ==>  axis = 1\n",
    "print(f\"rows : {sum_rows}\")\n"
   ]
  },
  {
   "cell_type": "markdown",
   "id": "13e920cf",
   "metadata": {},
   "source": [
    "### broadcasting "
   ]
  },
  {
   "cell_type": "code",
   "execution_count": 13,
   "id": "ea96e3b5",
   "metadata": {},
   "outputs": [
    {
     "name": "stdout",
     "output_type": "stream",
     "text": [
      "[[1 2 3 4]\n",
      " [2 3 4 5]\n",
      " [3 4 5 6]]\n"
     ]
    }
   ],
   "source": [
    "m1  = np.array([0,1,2,3])\n",
    "m2  = np.array([1,2,3])\n",
    "m3 = m1 + m2 [: , np.newaxis]     ## convert rows to columns !! \n",
    "print(m3)\n"
   ]
  },
  {
   "cell_type": "markdown",
   "id": "10065d0a",
   "metadata": {},
   "source": [
    "## vectorize "
   ]
  },
  {
   "cell_type": "markdown",
   "id": "b7552102",
   "metadata": {},
   "source": [
    "###### we can use fuction in my array with **vectorize** "
   ]
  },
  {
   "cell_type": "markdown",
   "id": "aa4406a6",
   "metadata": {},
   "source": [
    "##### example 1 :"
   ]
  },
  {
   "cell_type": "code",
   "execution_count": 18,
   "id": "aa58737d",
   "metadata": {},
   "outputs": [],
   "source": [
    "def vectorize_function(x) :\n",
    "    if x >= 0 :\n",
    "        return x**2\n",
    "    else :\n",
    "        return abs(x)"
   ]
  },
  {
   "cell_type": "code",
   "execution_count": 19,
   "id": "d8e8accf",
   "metadata": {},
   "outputs": [
    {
     "name": "stdout",
     "output_type": "stream",
     "text": [
      "[  9   4   5 144   1   0]\n"
     ]
    }
   ],
   "source": [
    "arr1 = np.array([3, -4 , -5 , 12 , 1,  0 ])\n",
    "vectorized_function = np.vectorize(vectorize_function)\n",
    "result  = vectorized_function(arr1)\n",
    "print(result)\n"
   ]
  },
  {
   "cell_type": "markdown",
   "id": "3f06310a",
   "metadata": {},
   "source": [
    "##### example 2 :"
   ]
  },
  {
   "cell_type": "code",
   "execution_count": 20,
   "id": "18ca37ea",
   "metadata": {},
   "outputs": [],
   "source": [
    "def compare (p1 , p2) :\n",
    "    if p2 > p1 :\n",
    "        return \"inc\"\n",
    "    elif p2 < p1 :\n",
    "        return \"dec\"\n",
    "    else :\n",
    "        return \"unchange\""
   ]
  },
  {
   "cell_type": "code",
   "execution_count": 22,
   "id": "51be4b62",
   "metadata": {},
   "outputs": [],
   "source": [
    "last_year  = np.array([150 , 200 , 300 , 400 , 500])\n",
    "this_year  = np.array([100 , 150 , 300 , 450 , 520])"
   ]
  },
  {
   "cell_type": "code",
   "execution_count": 23,
   "id": "c7bbaf0d",
   "metadata": {},
   "outputs": [
    {
     "name": "stdout",
     "output_type": "stream",
     "text": [
      "['dec' 'dec' 'unchange' 'inc' 'inc']\n"
     ]
    }
   ],
   "source": [
    "compare_prices = np.vectorize(compare)\n",
    "result  = compare_prices(last_year , this_year) \n",
    "print(result)"
   ]
  },
  {
   "cell_type": "markdown",
   "id": "6b905697",
   "metadata": {},
   "source": [
    "### all()  ,  any()"
   ]
  },
  {
   "cell_type": "code",
   "execution_count": null,
   "id": "50dd4ce1",
   "metadata": {},
   "outputs": [
    {
     "name": "stdout",
     "output_type": "stream",
     "text": [
      "False\n",
      "True\n"
     ]
    }
   ],
   "source": [
    "arr1 = np.array([12, 23, 14, 30])\n",
    "result = np.all(arr1 > 20)   ##  what's going on in () ==> res =  arr1 > 20 ==> [false ,  true ,  false ,  true]\n",
    "result2  =  np.any(arr1 >20)\n",
    "print(result)\n",
    "print(result2)"
   ]
  },
  {
   "cell_type": "markdown",
   "id": "27fb0ae5",
   "metadata": {},
   "source": [
    "### copy and view "
   ]
  },
  {
   "cell_type": "code",
   "execution_count": null,
   "id": "08cf4768",
   "metadata": {},
   "outputs": [
    {
     "name": "stdout",
     "output_type": "stream",
     "text": [
      "[300   3   4   5]\n",
      "[2 3 4 5]\n"
     ]
    }
   ],
   "source": [
    "orginal_arr = np.array([2, 3, 4, 5])\n",
    "copied_arr = orginal_arr. copy()\n",
    "orginal_arr[0] = 300\n",
    "print (orginal_arr)\n",
    "print(copied_arr)"
   ]
  },
  {
   "cell_type": "code",
   "execution_count": 4,
   "id": "24ee7a67",
   "metadata": {},
   "outputs": [
    {
     "name": "stdout",
     "output_type": "stream",
     "text": [
      "[300   3   4   5]\n",
      "[300   3   4   5]\n"
     ]
    }
   ],
   "source": [
    "orginal_arr = np.array([2, 3, 4, 5])\n",
    "viewed_arr = orginal_arr.view()\n",
    "orginal_arr[0] = 300\n",
    "print(orginal_arr)\n",
    "print(viewed_arr)"
   ]
  },
  {
   "cell_type": "markdown",
   "id": "6f4087f2",
   "metadata": {},
   "source": [
    "## methods in numpy "
   ]
  },
  {
   "cell_type": "code",
   "execution_count": 3,
   "id": "b1464d14",
   "metadata": {},
   "outputs": [
    {
     "name": "stdout",
     "output_type": "stream",
     "text": [
      "[[0 1 2]\n",
      " [3 4 5]]\n"
     ]
    }
   ],
   "source": [
    "arr1  = np.array([1,2,3])\n",
    "arr2 = np.zeros((2,2))\n",
    "arr3  = np.ones((3,3))\n",
    "arr4  = np.full((2,2), 8)\n",
    "arr5  = np.eye(3)             ## scaller metrix  n*n\n",
    "arr6 = np.arange(1, 12 , 2 )    ##  look like the range in python \n",
    "arr7 = np.arange(6).reshape((2,3))   ## make a new shape in metrix \n",
    "arr8 = np.linspace(0, 1 , 5)     ##  devide the same part \n",
    "arr9 = np.split(arr6 , 3 )   ##  make a partision (efraz)\n",
    "arr10 = np.array([13 ,13 ,13, 22, 22, 69 ])\n",
    "arr10 = np.unique(arr10 , return_counts= True)\n",
    "arr11 = np.vstack((arr1 , arr7))     ##  1*3  + 2*3 = 3*3\n",
    "arr12 = np.hstack((arr6 , arr1 ))    ##  [....] + [....] =  [............]\n",
    "print(arr7)\n"
   ]
  },
  {
   "cell_type": "markdown",
   "id": "3e522ac9",
   "metadata": {},
   "source": [
    "### .npy "
   ]
  },
  {
   "cell_type": "markdown",
   "id": "6e75a395",
   "metadata": {},
   "source": [
    "######  for saving : "
   ]
  },
  {
   "cell_type": "code",
   "execution_count": 38,
   "id": "4a4d0dcc",
   "metadata": {},
   "outputs": [],
   "source": [
    "my_array  = np.array([2,3,5,10])\n",
    "np.save(\"test.npy\" , my_array)"
   ]
  },
  {
   "cell_type": "markdown",
   "id": "cb4e902b",
   "metadata": {},
   "source": [
    "###### for loading : "
   ]
  },
  {
   "cell_type": "code",
   "execution_count": 37,
   "id": "0aaf1fb5",
   "metadata": {},
   "outputs": [
    {
     "name": "stdout",
     "output_type": "stream",
     "text": [
      "[ 2  3  5 10]\n"
     ]
    }
   ],
   "source": [
    "my_arr = np.load(\"test.npy\" )\n",
    "print(my_arr)"
   ]
  },
  {
   "cell_type": "markdown",
   "id": "327842ad",
   "metadata": {},
   "source": [
    "### random "
   ]
  },
  {
   "cell_type": "code",
   "execution_count": null,
   "id": "983e6eaa",
   "metadata": {},
   "outputs": [
    {
     "name": "stdout",
     "output_type": "stream",
     "text": [
      "[[12 23 18  3]\n",
      " [26 17 35  3]\n",
      " [47 25  9 43]\n",
      " [26  2 37 13]]\n",
      "\n",
      "\n",
      "\n",
      "[[41 49 26 38]\n",
      " [10 28 32  1]\n",
      " [33 22 46  2]\n",
      " [17 14 43 48]]\n",
      "\n",
      "\n",
      "\n",
      "[[53 72 44 41]\n",
      " [36 45 67  4]\n",
      " [80 47 55 45]\n",
      " [43 16 80 61]]\n",
      "\n",
      "\n",
      "\n",
      "[[53 72  0  0]\n",
      " [ 0  0 67  0]\n",
      " [80  0 55  0]\n",
      " [ 0  0 80 61]]\n",
      "\n",
      "\n",
      "\n",
      "filter rand [53 72 67 80 55 80 61]\n",
      "\n",
      "\n",
      "\n"
     ]
    }
   ],
   "source": [
    "import numpy as np\n",
    "rand1 = np.random.randint(1,50, size= (4,4)) ### very important for you !!!\n",
    "print(rand1)\n",
    "print(\"\\n\\n\")\n",
    "rand2 = np.random.randint(1,50 , size= (4,4))\n",
    "print(rand2) \n",
    "print(\"\\n\\n\")\n",
    "\n",
    "\n",
    "sum_value = rand1+rand2\n",
    "print(sum_value)\n",
    "print(\"\\n\\n\")\n",
    "filter_rand = np.where(sum_value >50 , sum_value , 0 )\n",
    "print(filter_rand)\n",
    "print(\"\\n\\n\")\n",
    "filter_rand = filter_rand[filter_rand != 0]\n",
    "print(f\"filter rand {filter_rand}\")\n",
    "print(\"\\n\\n\")\n"
   ]
  },
  {
   "cell_type": "markdown",
   "id": "21040a22",
   "metadata": {},
   "source": [
    "## example : \n"
   ]
  },
  {
   "cell_type": "code",
   "execution_count": 62,
   "id": "a590349b",
   "metadata": {},
   "outputs": [],
   "source": [
    "matrix  =  np.arange(1,10).reshape(3,3)"
   ]
  },
  {
   "cell_type": "markdown",
   "id": "4add95c3",
   "metadata": {},
   "source": [
    "##### find the location of max value of matrix"
   ]
  },
  {
   "cell_type": "code",
   "execution_count": 63,
   "id": "0a0df650",
   "metadata": {},
   "outputs": [
    {
     "name": "stdout",
     "output_type": "stream",
     "text": [
      "(np.int64(2), np.int64(2))\n",
      "9\n"
     ]
    }
   ],
   "source": [
    "max_value  = matrix.max()\n",
    "##np.unravel_index :\n",
    "##  in index of the  flatten  array ,  the number is frome where ?  output ==> row() , column()\n",
    "### argmax : \n",
    "### find the max number and then make it  position to flatten array !!   output==> index of flatten array \n",
    "indexer  = np.unravel_index(np.argmax(matrix) , matrix.shape)\n",
    "\n",
    "print(indexer)\n",
    "print(matrix[indexer])"
   ]
  }
 ],
 "metadata": {
  "kernelspec": {
   "display_name": "Python 3",
   "language": "python",
   "name": "python3"
  },
  "language_info": {
   "codemirror_mode": {
    "name": "ipython",
    "version": 3
   },
   "file_extension": ".py",
   "mimetype": "text/x-python",
   "name": "python",
   "nbconvert_exporter": "python",
   "pygments_lexer": "ipython3",
   "version": "3.13.0"
  }
 },
 "nbformat": 4,
 "nbformat_minor": 5
}
